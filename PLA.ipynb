{
 "cells": [
  {
   "cell_type": "markdown",
   "metadata": {},
   "source": [
    "# Introducción a Numpy y Matplotlib"
   ]
  },
  {
   "cell_type": "markdown",
   "metadata": {},
   "source": [
    "## Inicialización de una libreta IP[y]"
   ]
  },
  {
   "cell_type": "markdown",
   "metadata": {},
   "source": [
    "Para inicializar la libreta y poderla utilizar con mumpy y matplotlib, y asegurarse que los gráficos se presenten donde deben de estar es necesario ejecutar las siguientes instrucciones:"
   ]
  },
  {
   "cell_type": "code",
   "execution_count": 11,
   "metadata": {
    "collapsed": false
   },
   "outputs": [],
   "source": [
    "%matplotlib inline\n",
    "import numpy as np\n",
    "import matplotlib.pyplot as plt\n",
    "import random"
   ]
  },
  {
   "cell_type": "markdown",
   "metadata": {},
   "source": [
    "Ejercicio 1"
   ]
  },
  {
   "cell_type": "code",
   "execution_count": 3,
   "metadata": {
    "collapsed": true
   },
   "outputs": [],
   "source": [
    "def modelo_aleatorio():\n",
    "    x1, x2, y1, y2 = np.random.rand(4)\n",
    "    k_2 = 1\n",
    "    k_1 = (y2 - y1) / (x2 - x1) \n",
    "    k_0 = y1 - k_1 * x1\n",
    "    \n",
    "    return k_0, k_1, k_2"
   ]
  },
  {
   "cell_type": "markdown",
   "metadata": {},
   "source": [
    "Ejercicio 2"
   ]
  },
  {
   "cell_type": "code",
   "execution_count": 10,
   "metadata": {
    "collapsed": false
   },
   "outputs": [
    {
     "name": "stdout",
     "output_type": "stream",
     "text": [
      "[[ 1.          0.2027052   0.46060543]\n",
      " [ 1.          0.4633462   0.52576422]\n",
      " [ 1.          0.08478762  0.6703465 ]\n",
      " [ 1.          0.86316402  0.95010997]]\n"
     ]
    }
   ],
   "source": [
    "def genera_datos(N):\n",
    "    matriz = np.random.rand(N, 3)\n",
    "    for i in range(N):\n",
    "        matriz[i][0] = 1\n",
    "    return matriz"
   ]
  },
  {
   "cell_type": "markdown",
   "metadata": {},
   "source": [
    "Ejercicio 3"
   ]
  },
  {
   "cell_type": "code",
   "execution_count": null,
   "metadata": {
    "collapsed": false
   },
   "outputs": [],
   "source": [
    "def discriminante_lineal(k_0, k_1, K_2, X):\n",
    "    Y = np.ones(X.shape[0])\n",
    "    for i in xrange(X.shape[0]):\n",
    "        Y[i] = np.sign(k_0 + k_1 * X[i][0] + k_2 * X[i][1])\n",
    "\n",
    "    return Y"
   ]
  },
  {
   "cell_type": "markdown",
   "metadata": {},
   "source": [
    "Ejercicio 4"
   ]
  },
  {
   "cell_type": "code",
   "execution_count": null,
   "metadata": {
    "collapsed": false
   },
   "outputs": [],
   "source": [
    "def PLA(X,Y):\n",
    "    w = np.ones(3)\n",
    "    ind = np.arange(0, X.shape[0])\n",
    "    while True:\n",
    "        np.random.shuffle(ind)\n",
    "        flag = True\n",
    "        for i in ind:\n",
    "            y_e = np.sign(np.dot(X[i],w))\n",
    "            if (Y[i] != y_e):\n",
    "                w = w + np.dot(X[i], Y[i])\n",
    "                flag = False\n",
    "                break\n",
    "        if flag:\n",
    "            break\n",
    "    return w"
   ]
  },
  {
   "cell_type": "markdown",
   "metadata": {},
   "source": [
    "Ejercicio 5"
   ]
  },
  {
   "cell_type": "code",
   "execution_count": null,
   "metadata": {
    "collapsed": false
   },
   "outputs": [],
   "source": [
    "def error_clasificacion(Y, Y_e):\n",
    "    e = 0\n",
    "    for i in range(len(Y)):\n",
    "        if Y[i] != Y_e[i]:\n",
    "            e += 1\n",
    "    return 1.0*e/len(Y)"
   ]
  },
  {
   "cell_type": "markdown",
   "metadata": {},
   "source": [
    "Ejercicio 6"
   ]
  },
  {
   "cell_type": "code",
   "execution_count": 1,
   "metadata": {
    "collapsed": false
   },
   "outputs": [
    {
     "ename": "NameError",
     "evalue": "name 'modelo_aleatorio' is not defined",
     "output_type": "error",
     "traceback": [
      "\u001b[1;31m---------------------------------------------------------------------------\u001b[0m",
      "\u001b[1;31mNameError\u001b[0m                                 Traceback (most recent call last)",
      "\u001b[1;32m<ipython-input-1-f85d05bc5fd2>\u001b[0m in \u001b[0;36m<module>\u001b[1;34m()\u001b[0m\n\u001b[1;32m----> 1\u001b[1;33m \u001b[0mk_0\u001b[0m\u001b[1;33m,\u001b[0m \u001b[0mk_1\u001b[0m\u001b[1;33m,\u001b[0m \u001b[0mk_2\u001b[0m \u001b[1;33m=\u001b[0m \u001b[0mmodelo_aleatorio\u001b[0m\u001b[1;33m(\u001b[0m\u001b[1;33m)\u001b[0m\u001b[1;33m\u001b[0m\u001b[0m\n\u001b[0m\u001b[0;32m      2\u001b[0m \u001b[0mX\u001b[0m \u001b[1;33m=\u001b[0m \u001b[0mgenera_datos\u001b[0m\u001b[1;33m(\u001b[0m\u001b[1;36m10\u001b[0m\u001b[1;33m)\u001b[0m\u001b[1;33m\u001b[0m\u001b[0m\n\u001b[0;32m      3\u001b[0m \u001b[0mY\u001b[0m \u001b[1;33m=\u001b[0m \u001b[0mdiscriminante_lineal\u001b[0m\u001b[1;33m(\u001b[0m\u001b[0mk_0\u001b[0m\u001b[1;33m,\u001b[0m \u001b[0mk_1\u001b[0m\u001b[1;33m,\u001b[0m \u001b[0mk_2\u001b[0m\u001b[1;33m,\u001b[0m \u001b[0mX\u001b[0m\u001b[1;33m)\u001b[0m\u001b[1;33m\u001b[0m\u001b[0m\n\u001b[0;32m      4\u001b[0m \u001b[0mw_0\u001b[0m\u001b[1;33m,\u001b[0m \u001b[0mw_1\u001b[0m\u001b[1;33m,\u001b[0m \u001b[0mw_2\u001b[0m \u001b[1;33m=\u001b[0m \u001b[0mPLA\u001b[0m\u001b[1;33m(\u001b[0m\u001b[0mX\u001b[0m\u001b[1;33m,\u001b[0m \u001b[0mY\u001b[0m\u001b[1;33m)\u001b[0m\u001b[1;33m\u001b[0m\u001b[0m\n\u001b[0;32m      5\u001b[0m \u001b[0mY_e\u001b[0m \u001b[1;33m=\u001b[0m \u001b[0mdiscriminante_lineal\u001b[0m\u001b[1;33m(\u001b[0m\u001b[0mw_0\u001b[0m\u001b[1;33m,\u001b[0m \u001b[0mw_1\u001b[0m\u001b[1;33m,\u001b[0m \u001b[0mw_2\u001b[0m\u001b[1;33m,\u001b[0m \u001b[0mX\u001b[0m\u001b[1;33m)\u001b[0m\u001b[1;33m\u001b[0m\u001b[0m\n",
      "\u001b[1;31mNameError\u001b[0m: name 'modelo_aleatorio' is not defined"
     ]
    }
   ],
   "source": [
    "k_0, k_1, k_2 = modelo_aleatorio()\n",
    "X = genera_datos(10)\n",
    "Y = discriminante_lineal(k_0, k_1, k_2, X)\n",
    "w_0, w_1, w_2 = PLA(X, Y)\n",
    "Y_e = discriminante_lineal(w_0, w_1, w_2, X)\n",
    "E_i = error_clasificacion(Y, Y_e)"
   ]
  },
  {
   "cell_type": "markdown",
   "metadata": {},
   "source": [
    "Ejercicio 7"
   ]
  },
  {
   "cell_type": "code",
   "execution_count": null,
   "metadata": {
    "collapsed": false
   },
   "outputs": [],
   "source": [
    "X_o = genera_datos(10000)\n",
    "Y_o = discriminante_lineal(k_0, k_1, k_2, X_o)\n",
    "Y_eo = discriminante_lineal(w_0, w_1, w_2, X_o)\n",
    "E_o = error_clasificacion(Y_o, Y_eo)"
   ]
  },
  {
   "cell_type": "markdown",
   "metadata": {},
   "source": [
    "Ejercicio 8"
   ]
  },
  {
   "cell_type": "code",
   "execution_count": null,
   "metadata": {
    "collapsed": false
   },
   "outputs": [],
   "source": [
    "def eout_p(N):\n",
    "    E_lista = np.zeros(500)\n",
    "    X_o = genera_datos(10000)\n",
    "\n",
    "    for epoch in range(1, 101):\n",
    "        k_0, k_1, k_2 = modelo_aleatorio()\n",
    "        Y_o = discriminante_lineal(k_0, k_1, k_2, X_o)\n",
    "\n",
    "        for iter in range(1, 101):\n",
    "            X = genera_datos(N)\n",
    "            Y = discriminante_lineal(k_0, k_1, k_2, X)\n",
    "            w_0, w_1, w_2 = PLA(X, Y)\n",
    "            Y_eo = discriminante_lineal(w_0, w_1, w_2, X_o)\n",
    "            E_o = error_clasificacion(Y_o, Y_eo)\n",
    "            \n",
    "            i = 100 * epoch + iter\n",
    "            if i < 500:\n",
    "                E_lista[i] = E_o\n",
    "            \n",
    "    return 1.0*E_lista.sum()/500\n",
    "\n",
    "print eout_p(2)"
   ]
  }
 ],
 "metadata": {
  "kernelspec": {
   "display_name": "Python 2",
   "language": "python",
   "name": "python2"
  }
 },
 "nbformat": 4,
 "nbformat_minor": 0
}
