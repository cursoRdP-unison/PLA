{
 "cells": [
  {
   "cell_type": "markdown",
   "metadata": {},
   "source": [
    "#El algoritmo del perceptrón, y el error en muestra y fuera de muestra"
   ]
  },
  {
   "cell_type": "markdown",
   "metadata": {},
   "source": [
    "#Introducción"
   ]
  },
  {
   "cell_type": "markdown",
   "metadata": {},
   "source": [
    "Esta práctica tiene como fin poner en relieve las ideas básicas de el aprendizaje, utilizando uno de los métodos de aprendizaje más antiguos y fáciles de implementar.\n",
    "\n",
    "Esta práctica no intenta ser un remplazo del curso, por lo que se asume que los estudiantes conocen el algoritmo de aprendizaje del perceptrón (PLA por sus sigles en inglés), así como las ideas básicas sobre error en muestra y error fuera de muestra. Para esta práctica se puede realizar el problema en cualquier lenguaje de computación que conozca el estudiante. Sin embargo, se recomienda un lenguaje con capacidades de graficación, tal como Matlab, R y Python (con numpy y matplotlib).\n",
    "\n",
    "Recordemos que el error fuera de muestra E_o es el error sobre todo el conjunto de puntos del espacio X. Una vez definido el criterio del error, el objetivo del aprendizaje es encontrar una hipótesis g en el conjunto de todas las hipótesis posibles que se pueden hacer con el método de aprendizaje.\n",
    "\n",
    "Lamentablemente, en todos los casos reales se desconoce E_o y lo más que se puede esperar es aproximarlo a partir del error en muestra E_i, el cual se define como el error medio de un conjunto de datos de aprendizaje disponibles.\n",
    "\n",
    "Para el caso del perceptrón, E_o es la esperanza que un dato se encuentre mal clasificado, y E_i es el porcentaje de datos mal clasificados por el perceptrón. Tambien sabemos, por lo visto en el curso, que si el conjunto de datos que se utiliza en el algoritmo de PLA es linealmente separable, entonces siempre se tiene una hipótesis final g tal que E_i = 0.\n",
    "\n",
    "Entonces, ¿Si E_i = 0, podríamos decir que el PLA aprende perfectamente? Desgraciadamente esto es falso. ¿Y eso porqué? Pues porque lo que nos interesa es E_o = 0 y no E_i = 0. Esta práctica tiene como fin dejar clara la diferencia entre E_i y E_o.\n",
    "\n",
    "Para esto, vamos a hacer un poco de trampa, vamos a suponer que nosotros efectivamente conocemos la función con la que se generaron los datos de aprendizaje, la cual va a ser una función del tipo y = sign(k_0 + k_1 * x_1 + k_2 * x_2). Después vamos a generar datos con esta función, y vamos a estimar g(x) = sign(w_0 + w_1 * x_1 + w_2 * x_2) con el PLA. Así nosotros podemos hacer una estimación suficientemente aproximada de que tan grande es en general la diferencia entre E_i y E_o para diferente número de datos en el conjunto de aprendizaje."
   ]
  },
  {
   "cell_type": "markdown",
   "metadata": {},
   "source": [
    "#Práctica a realizar"
   ]
  },
  {
   "cell_type": "code",
   "execution_count": 1,
   "metadata": {
    "collapsed": true
   },
   "outputs": [],
   "source": [
    "%matplotlib inline\n",
    "import numpy as np\n",
    "import matplotlib.pyplot as plt"
   ]
  },
  {
   "cell_type": "markdown",
   "metadata": {},
   "source": [
    "*   Desarrolla una función `modelo_aleatorio` en el cual:\n",
    "\n",
    "\ta. Se soliciten 4 numeros aleatorios entre el 0 y el 1, a los que llamaremos x1, y1, x2, y2.\n",
    "\n",
    "\tb. Se obtenga el valor de os pesos de la recta que pasa entre los dos puntos calculados como:\n",
    "\n",
    "        k_2 = 1\n",
    "        k_1 = (y2 - y1) / (x2 - x1)\n",
    "        k_0 = y_1 - k_1 * x_1\n",
    "\n",
    "\n",
    "\tde forma que:\n",
    "\n",
    "        k_0, k_1, k_2 = modelo_aleatorio()"
   ]
  },
  {
   "cell_type": "code",
   "execution_count": 2,
   "metadata": {
    "collapsed": true
   },
   "outputs": [],
   "source": [
    "def modelo_aleatorio():\n",
    "\n",
    "    x1 = np.random.uniform(0,1)\n",
    "    y1 = np.random.uniform(0,1)\n",
    "    x2 = np.random.uniform(0,1)\n",
    "    y2 = np.random.uniform(0,1)\n",
    "\n",
    "    k_2 = 1.0 \n",
    "    k_1 = (y2 - y1) / (x2 - x1) \n",
    "    k_0 = y1 - k_1 * x1 \n",
    "\n",
    "    return k_0, k_1, k_2"
   ]
  },
  {
   "cell_type": "code",
   "execution_count": 11,
   "metadata": {
    "collapsed": false
   },
   "outputs": [
    {
     "name": "stdout",
     "output_type": "stream",
     "text": [
      "Funcion 1: modelo_aleatorio \n",
      "\n",
      "k_0: 9.56564678461\n",
      "k_1: -14.6881902699\n",
      "k_2: 1.0\n"
     ]
    }
   ],
   "source": [
    "print \"Funcion 1: modelo_aleatorio \\n\"\n",
    "\n",
    "k_0, k_1, k_2 = modelo_aleatorio()\n",
    "\n",
    "print \"k_0:\", k_0\n",
    "print \"k_1:\", k_1\n",
    "print \"k_2:\", k_2"
   ]
  },
  {
   "cell_type": "markdown",
   "metadata": {},
   "source": [
    "* Desarrolla una función `genera_datos` tal que reciba un número entero positivo `N` y devuelva una matriz `X` \n",
    "   de `N` renglones y 2 columnas de manera que los valores de la matriz sean datos aleatorios en el intervalo [0, 1].\n",
    "   ```\n",
    "   X = genera_datos(N)\n",
    "   ```"
   ]
  },
  {
   "cell_type": "code",
   "execution_count": 12,
   "metadata": {
    "collapsed": true
   },
   "outputs": [],
   "source": [
    "def genera_datos(N):\n",
    "\n",
    "    return None if N <= 0 else np.column_stack((np.ones(N), (np.random.uniform(0, 1, size=(N, 2)))))"
   ]
  },
  {
   "cell_type": "code",
   "execution_count": 13,
   "metadata": {
    "collapsed": false
   },
   "outputs": [
    {
     "name": "stdout",
     "output_type": "stream",
     "text": [
      "Funcion 2: genera_datos \n",
      "\n",
      "Matriz X: \n",
      "\n",
      "[[ 1.          0.71804745  0.67959322]\n",
      " [ 1.          0.79356873  0.32876212]\n",
      " [ 1.          0.20009616  0.44538314]\n",
      " [ 1.          0.18017485  0.3238359 ]\n",
      " [ 1.          0.14770865  0.43359907]\n",
      " [ 1.          0.11789248  0.116258  ]\n",
      " [ 1.          0.20977513  0.35388107]\n",
      " [ 1.          0.01529173  0.54485276]\n",
      " [ 1.          0.07118083  0.62452072]\n",
      " [ 1.          0.27320267  0.51559774]\n",
      " [ 1.          0.80429774  0.83357618]\n",
      " [ 1.          0.99094769  0.75449559]\n",
      " [ 1.          0.27849695  0.1733744 ]\n",
      " [ 1.          0.82740589  0.72290075]\n",
      " [ 1.          0.55825866  0.72083898]\n",
      " [ 1.          0.43655576  0.78823525]\n",
      " [ 1.          0.70491594  0.97705001]\n",
      " [ 1.          0.55482505  0.35296887]\n",
      " [ 1.          0.22075402  0.47751191]\n",
      " [ 1.          0.06693352  0.69111075]\n",
      " [ 1.          0.71647372  0.65347329]\n",
      " [ 1.          0.52562606  0.34119328]\n",
      " [ 1.          0.02633367  0.13791563]\n",
      " [ 1.          0.07854976  0.7738456 ]\n",
      " [ 1.          0.88256703  0.71674092]]\n"
     ]
    }
   ],
   "source": [
    "print \"Funcion 2: genera_datos \\n\"\n",
    "\n",
    "X = genera_datos(25)\n",
    "\n",
    "print \"Matriz X: \\n\"\n",
    "print X"
   ]
  },
  {
   "cell_type": "markdown",
   "metadata": {},
   "source": [
    "* Desarrolla una función `discriminante_lineal` tal que reciba tres valores `k_0` `k_1` y `k_2` y  una matriz `X` de    2 por `N` y devuelva un vector `Y` de `N` elementos tales que por cada renglon `j` de la matriz X, se devuelva el \n",
    "   `j`-ésimo valor del vector `Y` tal que su valor sea `sign(k_0 + k_1 * x_1 + k_2 * x_2)`.\n",
    "   ```\n",
    "   Y = discriminante_lineal(k_0, k_1, k_2, X) \n",
    "   ``` "
   ]
  },
  {
   "cell_type": "code",
   "execution_count": 14,
   "metadata": {
    "collapsed": true
   },
   "outputs": [],
   "source": [
    "def discriminante_lineal(k_0, k_1, k_2, X):\n",
    "\n",
    "    Y = []\n",
    "\n",
    "    for i in xrange(X.shape[0]):\n",
    "        x_1 = X[i][1]\n",
    "        x_2 = X[i][2]\n",
    "        Y.append(np.sign(k_0 + k_1 * x_1 + k_2 * x_2))\n",
    "\n",
    "    return Y"
   ]
  },
  {
   "cell_type": "code",
   "execution_count": 15,
   "metadata": {
    "collapsed": false
   },
   "outputs": [
    {
     "name": "stdout",
     "output_type": "stream",
     "text": [
      "Funcion 3: discriminante_lineal \n",
      "\n",
      "Y: [-1.0, -1.0, 1.0, 1.0, 1.0, 1.0, 1.0, 1.0, 1.0, 1.0, -1.0, -1.0, 1.0, -1.0, 1.0, 1.0, 1.0, 1.0, 1.0, 1.0, -1.0, 1.0, 1.0, 1.0, -1.0]\n"
     ]
    }
   ],
   "source": [
    "print \"Funcion 3: discriminante_lineal \\n\"\n",
    "\n",
    "Y = discriminante_lineal(k_0, k_1, k_2, X)\n",
    "\n",
    "print \"Y:\", Y"
   ]
  },
  {
   "cell_type": "markdown",
   "metadata": {},
   "source": [
    "* Desarrolla una función `PLA` que implemente el algoritmo de aprendizaje del perceptrón para encontrar \n",
    "   `w_0`, `w_1` y `w_2`.\n",
    "   ```\n",
    "   w_0, w_1, w_2 = PLA(X, Y)\n",
    "   ```"
   ]
  },
  {
   "cell_type": "code",
   "execution_count": 16,
   "metadata": {
    "collapsed": true
   },
   "outputs": [],
   "source": [
    "def PLA(X, Y):\n",
    "\n",
    "    w = np.ones(X.shape[1])\n",
    "    indice = np.arange(0, X.shape[0])\n",
    "    flag = False\n",
    "    \n",
    "    while flag != True:\n",
    "        \n",
    "        np.random.shuffle(indice)\n",
    "        flag = True\n",
    "\n",
    "        for i in indice:\n",
    "\n",
    "            Y_e = np.sign(np.dot(X[i], w))\n",
    "\n",
    "            if Y[i] != Y_e:\n",
    "                w = w + np.dot(Y[i], X[i])\n",
    "                flag = False\n",
    "                break\n",
    "    return w"
   ]
  },
  {
   "cell_type": "code",
   "execution_count": 17,
   "metadata": {
    "collapsed": false
   },
   "outputs": [
    {
     "name": "stdout",
     "output_type": "stream",
     "text": [
      "Funcion 4: PLA \n",
      "\n",
      "w_0: 2.0\n",
      "w_1: -3.21037891198\n",
      "w_2: 0.448412939885\n"
     ]
    }
   ],
   "source": [
    "print \"Funcion 4: PLA \\n\"\n",
    "\n",
    "w_0, w_1, w_2 = PLA(X, Y)\n",
    "\n",
    "print \"w_0:\", w_0\n",
    "print \"w_1:\", w_1\n",
    "print \"w_2:\", w_2"
   ]
  },
  {
   "cell_type": "markdown",
   "metadata": {},
   "source": [
    "* Desarrolla una función `error_clasificacion` que reciba un vector de valores `Y`y un vector de valores `Y_e` y \n",
    "   calcule el porcentaje de valores diferentes entre ambos vectores\n",
    "   ```\n",
    "   e = error_clasificacion(Y, Y_e)\n",
    "   ```"
   ]
  },
  {
   "cell_type": "code",
   "execution_count": 18,
   "metadata": {
    "collapsed": true
   },
   "outputs": [],
   "source": [
    "def error_clasificacion(Y, Y_e):\n",
    "    \n",
    "    c = 0\n",
    "\n",
    "    for i in xrange(len(Y)):\n",
    "        \n",
    "        if Y[i] != Y_e[i]:\n",
    "            c += 1\n",
    "\n",
    "    return c / float(len(Y))"
   ]
  },
  {
   "cell_type": "code",
   "execution_count": 19,
   "metadata": {
    "collapsed": false
   },
   "outputs": [
    {
     "name": "stdout",
     "output_type": "stream",
     "text": [
      "Funcion 5: error_clasificacion \n",
      "\n",
      "E_i: 0.0\n"
     ]
    }
   ],
   "source": [
    "print \"Funcion 5: error_clasificacion \\n\"\n",
    "\n",
    "E_i = error_clasificacion(Y, Y)\n",
    "\n",
    "print \"E_i:\", E_i"
   ]
  },
  {
   "cell_type": "markdown",
   "metadata": {},
   "source": [
    "* Prueba que el conjunto funciona, esto es, para diferentes valores de `N` y repetidos tantas veces \n",
    "   como sea necesario al realizar lo siguiente:\n",
    "   ```\n",
    "   k_0, k_1, k_2 = modelo_aleatorio()\n",
    "   X = genera_datos(N)\n",
    "   Y = discriminante_lineal(k_0, k_1, k_2, X)\n",
    "   w_0, w_1, w_2 = PLA(X, Y)\n",
    "   Y_e = discriminante_lineal(w_0, w_1, w_2, X)\n",
    "   E_i = error_clasificacion(Y, Y_e)\n",
    "   ```\n",
    "   en todos los casos `e` debe de ser 0 o un valor muy cercano (como `1e-12`)."
   ]
  },
  {
   "cell_type": "code",
   "execution_count": 21,
   "metadata": {
    "collapsed": false
   },
   "outputs": [
    {
     "name": "stdout",
     "output_type": "stream",
     "text": [
      "Funcion 6: prueba E_i \n",
      "\n",
      "E_i de 1000 : 0.0\n",
      "E_i de 2000 : 0.0\n",
      "E_i de 3000 : 0.0\n",
      "E_i de 4000 : 0.0\n",
      "E_i de 5000 : 0.0\n",
      "E_i de 6000 : 0.0\n",
      "E_i de 7000 : 0.0\n",
      "E_i de 8000 : 0.0\n",
      "E_i de 9000 : 0.0\n",
      "E_i de 10000 : 0.0\n"
     ]
    }
   ],
   "source": [
    "print \"Funcion 6: prueba E_i \\n\"\n",
    "\n",
    "for N in xrange(1000, 10000 + 1000, 1000):\n",
    "\n",
    "    k_0, k_1, k_2 = modelo_aleatorio()\n",
    "    X = genera_datos(N)\n",
    "    Y = discriminante_lineal(k_0, k_1, k_2, X)\n",
    "    w_0, w_1, w_2 = PLA(X, Y)\n",
    "    Y_e = discriminante_lineal(w_0, w_1, w_2, X)\n",
    "    E_i = error_clasificacion(Y, Y_e)\n",
    "\n",
    "    print \"E_i de\", N, \":\", E_i"
   ]
  },
  {
   "cell_type": "markdown",
   "metadata": {},
   "source": [
    "* `E_i` Es en este caso el error en muestra, que es el que se obtiene de verificar el error que el clasificador\n",
    "   (descrito por `w_0`, `w_1` y `w_2`) presenta respecto a los datos reales, pero únicamente de datos de aprendizaje.\n",
    "   \n",
    "   Este error no es exactamente el error fuera de muestra, y para calcular dicho error en el plano [0, 1] x [0, 1]\n",
    "   hay que realizar algunas operaciones de geometría analítica que no siempre son sencillas. Por esta razón vamos a\n",
    "   considerar estimar el E_out, con un conjunto de datos sensiblemente mayor al que utilizamos para el aprendizaje.\n",
    "   por ejemplo:\n",
    "   ```\n",
    "   X_o = genera_datos(10000)\n",
    "   Y_o = discriminante_lineal(k_0, k_1, k_2, X_o)\n",
    "   Y_eo = discriminante_lineal(w_0, w_1, w_2, X_o)\n",
    "   E_o = error_clasificacion(Y_o, Y_eo)\n",
    "   ```"
   ]
  },
  {
   "cell_type": "code",
   "execution_count": 42,
   "metadata": {
    "collapsed": false
   },
   "outputs": [
    {
     "name": "stdout",
     "output_type": "stream",
     "text": [
      "Funcion 7: prueba E_o \n",
      "\n",
      "E_o: 0.0\n"
     ]
    }
   ],
   "source": [
    "print \"Funcion 7: prueba E_o \\n\"\n",
    "\n",
    "X_o = genera_datos(10000)\n",
    "Y_o = discriminante_lineal(k_0, k_1, k_2, X_o)\n",
    "Y_eo = discriminante_lineal(w_0, w_1, w_2, X_o)\n",
    "E_o = error_clasificacion(Y_o, Y_eo)\n",
    "\n",
    "print \"E_o:\", E_o"
   ]
  },
  {
   "cell_type": "markdown",
   "metadata": {},
   "source": [
    "* Ahora vamos a comparar con un número diferente de datos de aprendizaje, como E_o cambia en terminos generales. \n",
    "   Con el fin de generalizar, haga una función que reciba un valor `N` y devuelva un `E_o_prom` estimado de la \n",
    "   siguiente forma:\n",
    "   ```\n",
    "   Entrada: N\n",
    "   Salida: E_o_prom\n",
    "   \n",
    "   E_lista = arreglo e numeros de 500 espacios\n",
    "   X_o = genera_datos(10000)\n",
    "\n",
    "   para epoch de 1 a 100:\n",
    "      k_0, k_1, k_2 = modelo_aleatorio()\n",
    "      Y_o = discriminante_lineal(k_0, k_1, k_2, X_o)\n",
    "\n",
    "      para iter de 1 a 100:\n",
    "          X = genera_datos(N)\n",
    "          Y = discriminante_lineal(k_0, k_1, k_2, X)\n",
    "          w_0, w_1, w_2 = PLA(X, Y)\n",
    "          Y_eo = discriminante_lineal(w_0, w_1, w_2, X_o)\n",
    "          E_o = error_clasificacion(Y_o, Y_eo)\n",
    "          E_lista[100 * epoch + iter] = E_o\n",
    "      fin para\n",
    "\n",
    "   fin para\n",
    "\n",
    "   devuelve el valor promedio de los valores de E_lista\n",
    "   ```\n",
    "   Como puede verse en el pseudocódigo, la idea es poder estimar en forma general el error promedio entre el \n",
    "   E_i y el E_o que tendríamos si tuvieramos solo `N` datos de aprendizaje. "
   ]
  },
  {
   "cell_type": "code",
   "execution_count": 22,
   "metadata": {
    "collapsed": true
   },
   "outputs": [],
   "source": [
    "def E_o_prom(N):\n",
    "\n",
    "    E_lista = np.zeros(500)\n",
    "    X_o = genera_datos(10000)\n",
    "\n",
    "    for epoch in xrange(1, 100):\n",
    "        k_0, k_1, k_2 = modelo_aleatorio()\n",
    "        Y_o = discriminante_lineal(k_0, k_1, k_2, X_o)\n",
    "\n",
    "        for iter in xrange(1, 100):\n",
    "            X = genera_datos(N)\n",
    "            Y = discriminante_lineal(k_0, k_1, k_2, X)\n",
    "            w_0, w_1, w_2 = PLA(X, Y)\n",
    "            Y_eo = discriminante_lineal(w_0, w_1, w_2, X_o)\n",
    "            E_o = error_clasificacion(Y_o, Y_eo)\n",
    "            indice = 100 * epoch + iter\n",
    "        \n",
    "            if len(E_lista) <= indice:\n",
    "                temp = np.zeros(indice + 1)\n",
    "                for i in xrange(0, len(E_lista)):\n",
    "                    temp[i] = E_lista[i]\n",
    "                temp[indice] = E_o\n",
    "                E_lista = temp[:]\n",
    "            else:\n",
    "                E_lista[indice] = E_o\n",
    "\n",
    "    return sum(E_lista) / len(E_lista)"
   ]
  },
  {
   "cell_type": "code",
   "execution_count": 24,
   "metadata": {
    "collapsed": false
   },
   "outputs": [
    {
     "name": "stdout",
     "output_type": "stream",
     "text": [
      "Funcion 8: pseudocodigo E_o_prom \n",
      "\n",
      "E_o_prom 0.03425929\n"
     ]
    }
   ],
   "source": [
    "print \"Funcion 8: pseudocodigo E_o_prom \\n\"\n",
    "\n",
    "E_o_prom = E_o_prom(10)\n",
    "\n",
    "print \"E_o_prom\", E_o_prom"
   ]
  },
  {
   "cell_type": "markdown",
   "metadata": {},
   "source": [
    "* Explica en forma gráfica que es lo que se está haciendo y que es el valor que estamos midiendo."
   ]
  },
  {
   "cell_type": "code",
   "execution_count": 44,
   "metadata": {
    "collapsed": false
   },
   "outputs": [
    {
     "name": "stdout",
     "output_type": "stream",
     "text": [
      "Funcion 9: grafica \n",
      "\n",
      "N: 10    E_o: 0.04893768\n",
      "N: 20    E_o: 0.02371382\n",
      "N: 30    E_o: 0.01695317\n",
      "N: 40    E_o: 0.01257113\n",
      "N: 50    E_o: 0.00835986\n",
      "N: 60    E_o: 0.00757003\n",
      "N: 70    E_o: 0.0079465\n",
      "N: 80    E_o: 0.00625278\n",
      "N: 90    E_o: 0.00468784\n",
      "N: 100    E_o: 0.00548626\n"
     ]
    },
    {
     "data": {
      "image/png": "[encoded data removed]",
      "text/plain": [
       "<matplotlib.figure.Figure at 0x7fe3d6a91390>"
      ]
     },
     "metadata": {},
     "output_type": "display_data"
    }
   ],
   "source": [
    "print \"Funcion 9: grafica \\n\"\n",
    "\n",
    "E_o = []\n",
    "N = np.arange(10, 100+10, 10)\n",
    "\n",
    "for i in N:\n",
    "    \n",
    "    e_o = E_o_prom(i)\n",
    "    E_o.append(e_o)\n",
    "\n",
    "for i in xrange(len(N)):\n",
    "    \n",
    "    print \"N: \" + str(N[i]) + \"    \" + \"E_o: \" + str(E_o[i])\n",
    "\n",
    "\n",
    "x = [x for x in N]\n",
    "y = [y for y in E_o]\n",
    "\n",
    "plt.scatter(x, y)\n",
    "plt.show()"
   ]
  },
  {
   "cell_type": "markdown",
   "metadata": {},
   "source": [
    "* Realiza una tabla con los valores de `E_o_prom` para `N` que tome los valores de 10, 20, 50, 100, 500 \n",
    "    respectivamente. Escribe claramente tus conclusiones de este trabajo. "
   ]
  },
  {
   "cell_type": "code",
   "execution_count": 21,
   "metadata": {
    "collapsed": false
   },
   "outputs": [
    {
     "name": "stdout",
     "output_type": "stream",
     "text": [
      "Funcion 10: tabla de E_o_prom \n",
      "\n",
      "N: 10    E_o: 0.00457307692308\n",
      "N: 20    E_o: 0.00309945054945\n",
      "N: 50    E_o: 0.00051021978022\n",
      "N: 100    E_o: 0.000849450549451\n",
      "N: 500    E_o: 9.96703296703e-05\n"
     ]
    }
   ],
   "source": [
    "print \"Funcion 10: tabla de E_o_prom \\n\"\n",
    "\n",
    "e1 = E_o_prom(10)\n",
    "e2 = E_o_prom(20)\n",
    "e3 = E_o_prom(50)\n",
    "e4 = E_o_prom(100)\n",
    "e5 = E_o_prom(500)\n",
    "\n",
    "print \"N: \" + str(10) + \"    \" + \"E_o: \" + str(e1) \n",
    "print \"N: \" + str(20) + \"    \" + \"E_o: \" + str(e2) \n",
    "print \"N: \" + str(50) + \"    \" + \"E_o: \" + str(e3) \n",
    "print \"N: \" + str(100) + \"    \" + \"E_o: \" + str(e4) \n",
    "print \"N: \" + str(500) + \"    \" + \"E_o: \" + str(e5) "
   ]
  }
 ],
 "metadata": {
  "kernelspec": {
   "display_name": "Python 2",
   "language": "python",
   "name": "python2"
  },
  "language_info": {
   "codemirror_mode": {
    "name": "ipython",
    "version": 2
   },
   "file_extension": ".py",
   "mimetype": "text/x-python",
   "name": "python",
   "nbconvert_exporter": "python",
   "pygments_lexer": "ipython2",
   "version": "2.7.11"
  }
 },
 "nbformat": 4,
 "nbformat_minor": 0
}
