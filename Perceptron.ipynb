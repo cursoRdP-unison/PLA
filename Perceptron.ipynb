{
 "cells": [
  {
   "cell_type": "markdown",
   "metadata": {},
   "source": [
    "# El algoritmo del perceptrón, y el error en muestra y fuera de muestra"
   ]
  },
  {
   "cell_type": "code",
   "execution_count": 1,
   "metadata": {
    "collapsed": true
   },
   "outputs": [],
   "source": [
    "%matplotlib inline\n",
    "import numpy as np\n",
    "import matplotlib.pyplot as plt"
   ]
  },
  {
   "cell_type": "markdown",
   "metadata": {},
   "source": [
    "# Introducción "
   ]
  },
  {
   "cell_type": "markdown",
   "metadata": {},
   "source": [
    "Esta práctica tiene como fin poner en relieve las ideas básicas de el aprendizaje, utilizando uno de los métodos de aprendizaje más antiguos y fáciles de implementar.\n",
    "\n",
    "Esta práctica no intenta ser un remplazo del curso, por lo que se asume que los estudiantes conocen el algoritmo de aprendizaje del perceptrón (PLA por sus sigles en inglés), así como las ideas básicas sobre error en muestra y error fuera de muestra. Para esta práctica se puede realizar el problema en cualquier lenguaje de computación que conozca el estudiante. Sin embargo, se recomienda un lenguaje con capacidades de graficación, tal como Matlab, R y Python (con numpy y matplotlib).\n",
    "\n",
    "Recordemos que el error fuera de muestra E_o es el error sobre todo el conjunto de puntos del espacio X. Una vez definido el criterio del error, el objetivo del aprendizaje es encontrar una hipótesis g en el conjunto de todas las hipótesis posibles que se pueden hacer con el método de aprendizaje.\n",
    "\n",
    "Lamentablemente, en todos los casos reales se desconoce E_o y lo más que se puede esperar es aproximarlo a partir del error en muestra E_i, el cual se define como el error medio de un conjunto de datos de aprendizaje disponibles.\n",
    "\n",
    "Para el caso del perceptrón, E_o es la esperanza que un dato se encuentre mal clasificado, y E_i es el porcentaje de datos mal clasificados por el perceptrón. Tambien sabemos, por lo visto en el curso, que si el conjunto de datos que se utiliza en el algoritmo de PLA es linealmente separable, entonces siempre se tiene una hipótesis final g tal que E_i = 0.\n",
    "\n",
    "Entonces, ¿Si E_i = 0, podríamos decir que el PLA aprende perfectamente? Desgraciadamente esto es falso. ¿Y eso porqué? Pues porque lo que nos interesa es E_o = 0 y no E_i = 0. Esta práctica tiene como fin dejar clara la diferencia entre E_i y E_o.\n",
    "\n",
    "Para esto, vamos a hacer un poco de trampa, vamos a suponer que nosotros efectivamente conocemos la función con la que se generaron los datos de aprendizaje, la cual va a ser una función del tipo y = sign(k_0 + k_1 * x_1 + k_2 * x_2). Después vamos a generar datos con esta función, y vamos a estimar g(x) = sign(w_0 + w_1 * x_1 + w_2 * x_2) con el PLA. Así nosotros podemos hacer una estimación suficientemente aproximada de que tan grande es en general la diferencia entre E_i y E_o para diferente número de datos en el conjunto de aprendizaje."
   ]
  },
  {
   "cell_type": "markdown",
   "metadata": {},
   "source": [
    "# Práctica a realizar"
   ]
  },
  {
   "cell_type": "markdown",
   "metadata": {},
   "source": [
    "1.Desarrolla una función modelo_aleatorio en el cual:\n",
    "\n",
    "a. Se soliciten 4 numeros aleatorios entre el 0 y el 1, a los que llamaremos x1, y1, x2, y2.\n",
    "\n",
    "b. Se obtenga el valor de los pesos de la recta que pasa entre los dos puntos calculados como: k_2 = 1 k_1 = (y2 - y1) / (x2 - x1) k_0 = y_1 - k_1 * x_1 \n",
    "\n",
    "de forma que:\n",
    "\n",
    "k_0, k_1, k_2 = modelo_aleatorio()"
   ]
  },
  {
   "cell_type": "code",
   "execution_count": 2,
   "metadata": {
    "collapsed": false
   },
   "outputs": [
    {
     "name": "stdout",
     "output_type": "stream",
     "text": [
      "1: modelo aleatorio: \n",
      "\n",
      "0.236179178028\n",
      "-0.332257291045\n",
      "1.0\n"
     ]
    }
   ],
   "source": [
    "def modelo_aleatorio():\n",
    "\n",
    "    x1 = np.random.uniform(0,1)\n",
    "    y1 = np.random.uniform(0,1)\n",
    "    x2 = np.random.uniform(0,1)\n",
    "    y2 = np.random.uniform(0,1)\n",
    "\n",
    "    k_2 = 1.0 \n",
    "    k_1 = (y2 - y1) / (x2 - x1) \n",
    "    k_0 = y1 - k_1 * x1 \n",
    "\n",
    "    return k_0, k_1, k_2\n",
    "\n",
    "\n",
    "print \"1: modelo aleatorio: \\n\"\n",
    "k_0, k_1, k_2 = modelo_aleatorio()\n",
    "\n",
    "print k_0\n",
    "print k_1\n",
    "print k_2"
   ]
  },
  {
   "cell_type": "markdown",
   "metadata": {},
   "source": [
    "2.Desarrolla una función genera_datostal que reciba un número entero positivo N y devuelva una matriz X de Nrenglones y 2 columnas de manera que los valores de la matriz sean datos aleatorios en el intervalo [0, 1]."
   ]
  },
  {
   "cell_type": "code",
   "execution_count": 3,
   "metadata": {
    "collapsed": false
   },
   "outputs": [
    {
     "name": "stdout",
     "output_type": "stream",
     "text": [
      "2: genera datos: \n",
      "\n",
      "[[ 1.          0.7355206   0.09880162]\n",
      " [ 1.          0.31491358  0.30476456]\n",
      " [ 1.          0.2875462   0.7013981 ]\n",
      " [ 1.          0.27025677  0.34224153]\n",
      " [ 1.          0.67263943  0.34556336]\n",
      " [ 1.          0.42539381  0.50327849]\n",
      " [ 1.          0.97436584  0.45209885]\n",
      " [ 1.          0.12456663  0.68941286]\n",
      " [ 1.          0.75656776  0.24895105]\n",
      " [ 1.          0.21887156  0.90918474]]\n"
     ]
    }
   ],
   "source": [
    "def genera_datos(N):\n",
    "\n",
    "    if N<= 0:\n",
    "        return None\n",
    "    else:\n",
    "        return np.column_stack((np.ones(N), (np.random.uniform(0, 1, size=(N, 2)))))\n",
    "\n",
    "print \"2: genera datos: \\n\"\n",
    "X = genera_datos(10)\n",
    "print X"
   ]
  },
  {
   "cell_type": "markdown",
   "metadata": {},
   "source": [
    "3.Desarrolla una función discriminante_lineal tal que reciba tres valores k_0 k_1 y k_2 y una matriz X de 2 por N y devuelva un vector Y de N elementos tales que por cada renglon j de la matriz X, se devuelva el j-ésimo valor del vector Y tal que su valor sea sign(k_0 + k_1 * x_1 + k_2 * x_2)."
   ]
  },
  {
   "cell_type": "code",
   "execution_count": 4,
   "metadata": {
    "collapsed": false
   },
   "outputs": [
    {
     "name": "stdout",
     "output_type": "stream",
     "text": [
      "3: discriminante lineal: \n",
      "\n",
      "[1.0, 1.0, 1.0, 1.0, 1.0, 1.0, 1.0, 1.0, 1.0, 1.0]\n"
     ]
    }
   ],
   "source": [
    "def discriminante_lineal(k_0, k_1, k_2, X):\n",
    "\n",
    "    Y = []\n",
    "\n",
    "    for i in xrange(X.shape[0]):\n",
    "        x_1 = X[i][1]\n",
    "        x_2 = X[i][2]\n",
    "        Y.append(np.sign(k_0 + k_1 * x_1 + k_2 * x_2))\n",
    "\n",
    "    return Y\n",
    "\n",
    "\n",
    "print \"3: discriminante lineal: \\n\"\n",
    "Y = discriminante_lineal(k_0, k_1, k_2, X)\n",
    "print Y"
   ]
  },
  {
   "cell_type": "markdown",
   "metadata": {},
   "source": [
    "4.Desarrolla una función PLA que implemente el algoritmo de aprendizaje del perceptrón para encontrar w_0, w_1 y w_2."
   ]
  },
  {
   "cell_type": "code",
   "execution_count": 5,
   "metadata": {
    "collapsed": false
   },
   "outputs": [
    {
     "name": "stdout",
     "output_type": "stream",
     "text": [
      "4: PLA: \n",
      "\n",
      "0.898656772617\n",
      "0.325382715342\n",
      "0.368951695134\n"
     ]
    }
   ],
   "source": [
    "def PLA(X, Y):\n",
    "\n",
    "    max_iter = 0\n",
    "    w = np.random.uniform(0, 1, size=X.shape[1])\n",
    "    Ye = np.sign(np.dot(X, w)) \n",
    "    error = Ye * Y\n",
    "    \n",
    "    while any(e != 1 for e in error) and max_iter < 1000:\n",
    "        i = np.random.choice(X.shape[0])\n",
    "        sign = np.sign(np.dot(X[i], w))\n",
    "\n",
    "        if sign == Y[i]:\n",
    "            pass\n",
    "        else:\n",
    "            w = w + np.dot(X[i], Y[i])\n",
    "            Ye = np.sign(np.dot(X, w)) \n",
    "            error = Ye * Y\n",
    "\n",
    "        max_iter += 1\n",
    "\n",
    "    return w\n",
    "\n",
    "\n",
    "print \"4: PLA: \\n\"\n",
    "w_0, w_1, w_2 = PLA(X, Y)\n",
    "print w_0\n",
    "print w_1\n",
    "print w_2"
   ]
  },
  {
   "cell_type": "markdown",
   "metadata": {},
   "source": [
    "5.Desarrolla una función error_clasificacion que reciba un vector de valores Yy un vector de valores Y_e y calcule el porcentaje de valores diferentes entre ambos vectores"
   ]
  },
  {
   "cell_type": "code",
   "execution_count": 6,
   "metadata": {
    "collapsed": false
   },
   "outputs": [
    {
     "name": "stdout",
     "output_type": "stream",
     "text": [
      "5: error clasificacion: \n",
      "\n",
      "0.0\n"
     ]
    }
   ],
   "source": [
    "def error_clasificacion(Y, Y_e):\n",
    "\n",
    "    c = 0\n",
    "    for i in xrange(len(Y)):\n",
    "        if Y[i] != Y_e[i]:\n",
    "            c += 1\n",
    "\n",
    "    return c / float(len(Y))\n",
    "\n",
    "print \"5: error clasificacion: \\n\"\n",
    "E_i = error_clasificacion(Y, Y)\n",
    "print E_i"
   ]
  },
  {
   "cell_type": "markdown",
   "metadata": {},
   "source": [
    "6.Prueba que el conjunto funciona, esto es, para diferentes valores de Ny repetidos tantas veces como sea necesario al realizar lo siguiente:\n",
    "\n",
    "k_0, k_1, k_2 = modelo_aleatorio()\n",
    "X = genera_datos(N)\n",
    "Y = discriminante_lineal(k_0, k_1, k_2, X)\n",
    "w_0, w_1, w_2 = PLA(X, Y)\n",
    "Y_e = discriminante_lineal(w_0, w_1, w_2, X)\n",
    "E_i = error_clasificacion(Y, Y_e)\n",
    "en todos los casos e debe de ser 0 o un valor muy cercano (como 1e-12)."
   ]
  },
  {
   "cell_type": "code",
   "execution_count": 7,
   "metadata": {
    "collapsed": false
   },
   "outputs": [
    {
     "name": "stdout",
     "output_type": "stream",
     "text": [
      "6: prueba E_i: \n",
      "\n",
      "0.0173\n"
     ]
    }
   ],
   "source": [
    "k_0, k_1, k_2 = modelo_aleatorio()\n",
    "X = genera_datos(10000)\n",
    "Y = discriminante_lineal(k_0, k_1, k_2, X)\n",
    "w_0, w_1, w_2 = PLA(X, Y)\n",
    "Y_e = discriminante_lineal(w_0, w_1, w_2, X)\n",
    "E_i = error_clasificacion(Y, Y_e)\n",
    "\n",
    "print \"6: prueba E_i: \\n\"\n",
    "print E_i"
   ]
  },
  {
   "cell_type": "markdown",
   "metadata": {},
   "source": [
    "7.E_i Es en este caso el error en muestra, que es el que se obtiene de verificar el error que el clasificador (descrito por w_0, w_1 y w_2) presenta respecto a los datos reales, pero únicamente de datos de aprendizaje.\n",
    "\n",
    "Este error no es exactamente el error fuera de muestra, y para calcular dicho error en el plano [0, 1] x [0, 1] hay que realizar algunas operaciones de geometría analítica que no siempre son sencillas. Por esta razón vamos a considerar estimar el E_out, con un conjunto de datos sensiblemente mayor al que utilizamos para el aprendizaje.\n",
    "   ```"
   ]
  },
  {
   "cell_type": "code",
   "execution_count": 8,
   "metadata": {
    "collapsed": false
   },
   "outputs": [
    {
     "name": "stdout",
     "output_type": "stream",
     "text": [
      "7: prueba E_o: \n",
      "\n",
      "0.0153\n"
     ]
    }
   ],
   "source": [
    "X_o = genera_datos(10000)\n",
    "Y_o = discriminante_lineal(k_0, k_1, k_2, X_o)\n",
    "Y_eo = discriminante_lineal(w_0, w_1, w_2, X_o)\n",
    "E_o = error_clasificacion(Y_o, Y_eo)\n",
    "\n",
    "print \"7: prueba E_o: \\n\"\n",
    "print E_o"
   ]
  },
  {
   "cell_type": "markdown",
   "metadata": {},
   "source": [
    "8.Ahora vamos a comparar con un número diferente de datos de aprendizaje, como E_o cambia en terminos generales."
   ]
  },
  {
   "cell_type": "code",
   "execution_count": 21,
   "metadata": {
    "collapsed": false
   },
   "outputs": [
    {
     "name": "stdout",
     "output_type": "stream",
     "text": [
      "8: E_o_prom: \n",
      "\n",
      "0.0223842\n"
     ]
    }
   ],
   "source": [
    "def E_o_prom(N):\n",
    "    \n",
    "    E_lista = np.zeros(500)\n",
    "    X_o = genera_datos(10000)\n",
    "    \n",
    "    for epoch in range(1,100):\n",
    "        k_0, k_1, k_2 = modelo_aleatorio()\n",
    "        Y_o = discriminante_lineal(k_0, k_1, k_2, X_o)\n",
    "        \n",
    "        for iter in range(1,100):\n",
    "            X = genera_datos(N)\n",
    "            Y = discriminante_lineal(k_0, k_1, k_2, X)\n",
    "            w_0, w_1, w_2 = PLA(X, Y)\n",
    "            Y_eo = discriminante_lineal(w_0, w_1, w_2, X_o)\n",
    "            E_o = error_clasificacion(Y_o, Y_eo)\n",
    "            \n",
    "            # puse un if ya que el indice se salia de rango y marcaba error\n",
    "            indice = 100 * epoch + iter\n",
    "            if indice < len(E_lista):\n",
    "                E_lista[indice] = E_o\n",
    "            \n",
    "    return sum(E_lista) / len(E_lista)\n",
    "\n",
    "print \"8: E_o_prom: \\n\"\n",
    "print E_o_prom(5)"
   ]
  },
  {
   "cell_type": "markdown",
   "metadata": {},
   "source": [
    "9.Explica en forma gráfica que es lo que se está haciendo y que es el valor que estamos midiendo."
   ]
  },
  {
   "cell_type": "code",
   "execution_count": null,
   "metadata": {
    "collapsed": true
   },
   "outputs": [],
   "source": []
  },
  {
   "cell_type": "markdown",
   "metadata": {},
   "source": [
    "10.Realiza una tabla con los valores de E_o_prompara N que tome los valores de 10, 20, 50, 100, 500 respectivamente. Escribe claramente tus conclusiones de este trabajo."
   ]
  },
  {
   "cell_type": "code",
   "execution_count": null,
   "metadata": {
    "collapsed": true
   },
   "outputs": [],
   "source": []
  }
 ],
 "metadata": {
  "kernelspec": {
   "display_name": "Python 2",
   "language": "python",
   "name": "python2"
  },
  "language_info": {
   "codemirror_mode": {
    "name": "ipython",
    "version": 2
   },
   "file_extension": ".py",
   "mimetype": "text/x-python",
   "name": "python",
   "nbconvert_exporter": "python",
   "pygments_lexer": "ipython2",
   "version": "2.7.10"
  }
 },
 "nbformat": 4,
 "nbformat_minor": 0
}
