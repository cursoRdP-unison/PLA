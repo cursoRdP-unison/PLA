{
 "cells": [
  {
   "cell_type": "code",
   "execution_count": 3,
   "metadata": {
    "collapsed": true
   },
   "outputs": [],
   "source": [
    "%matplotlib inline\n",
    "import numpy as np\n",
    "import matplotlib.pyplot as plt"
   ]
  },
  {
   "cell_type": "code",
   "execution_count": 4,
   "metadata": {
    "collapsed": false
   },
   "outputs": [
    {
     "name": "stdout",
     "output_type": "stream",
     "text": [
      "(-0.76629293009192689, 3.48155198409389, 1)\n"
     ]
    }
   ],
   "source": [
    "# Desarrolla una función modelo_aleatorio en el cual:\n",
    "\n",
    "# a. Se soliciten 4 numeros aleatorios entre el 0 y el 1, a los que llamaremos x1, y1, x2, y2.\n",
    "\n",
    "# b. Se obtenga el valor de os pesos de la recta que pasa entre los dos puntos calculados como:  k_2 = 1 k_1 = (y2 - y1) / (x2 - x1) \n",
    "# k_0 = y_1 - k_1 * x_1 \n",
    "\n",
    "# de forma que:\n",
    "\n",
    "# k_0, k_1, k_2 = modelo_aleatorio()\n",
    "def modelo_aleatorio():\n",
    "    r = np.random.random_sample(4)\n",
    "    x1, y1, x2, y2 = r[0], r[1], r[2], r[3]\n",
    "    k_2 = 1\n",
    "    k_1 =(y2-y1)/(x2-x1)\n",
    "    k_0 = y1 - k_1 * x1\n",
    "    return k_0, k_1, k_2\n",
    "print (modelo_aleatorio())"
   ]
  },
  {
   "cell_type": "code",
   "execution_count": 5,
   "metadata": {
    "collapsed": false
   },
   "outputs": [
    {
     "name": "stdout",
     "output_type": "stream",
     "text": [
      "[[ 1.          0.90061247  0.3979631 ]\n",
      " [ 1.          0.30208226  0.30119088]\n",
      " [ 1.          0.45389267  0.58340129]\n",
      " [ 1.          0.30486378  0.85477468]\n",
      " [ 1.          0.17183726  0.99777636]\n",
      " [ 1.          0.82340714  0.63971118]\n",
      " [ 1.          0.29126501  0.98212915]\n",
      " [ 1.          0.65465993  0.86848511]\n",
      " [ 1.          0.59681576  0.7515553 ]\n",
      " [ 1.          0.14079459  0.35074478]]\n"
     ]
    }
   ],
   "source": [
    "# Desarrolla una función genera_datostal que reciba un número entero positivo N y devuelva una matriz X de Nrenglones y \n",
    "# 2 columnas de manera que los valores de la matriz sean datos aleatorios en el intervalo [0, 1].\n",
    "def genera_datos(N):\n",
    "    c = np.ones((N,1))\n",
    "    a = np.random.rand(N,2)\n",
    "    X = np.c_[c, a]\n",
    "    return X\n",
    "print (genera_datos(10))\n",
    "    "
   ]
  },
  {
   "cell_type": "code",
   "execution_count": 9,
   "metadata": {
    "collapsed": false
   },
   "outputs": [
    {
     "name": "stdout",
     "output_type": "stream",
     "text": [
      "[1.0, 1.0, 1.0, -1.0, 1.0, -1.0, -1.0, 1.0, -1.0, 1.0, -1.0, -1.0, -1.0, 1.0, 1.0, 1.0, -1.0, 1.0, 1.0, 1.0, 1.0, 1.0, -1.0, -1.0, 1.0]\n"
     ]
    }
   ],
   "source": [
    "# Desarrolla una función discriminante_lineal tal que reciba tres valores k_0 k_1 y k_2 y una matriz X de 2 por N \n",
    "# y devuelva un vector Y de N elementos tales que por cada renglon j de la matriz X, se devuelva el j-ésimo valor del \n",
    "# vector Y tal que su valor sea sign(k_0 + k_1 * x_1 + k_2 * x_2).\n",
    "\n",
    "def discriminate_lineal(k_0,k_1,k_2,X):\n",
    "    Y = []\n",
    "    j = 0\n",
    "    for i in X: Y.append(np.sign(k_0 + k_1 * i[0] + k_2 * i[1]))\n",
    "    return Y\n",
    "\n",
    "k_0, k_1, k_2 = modelo_aleatorio()\n",
    "X = genera_datos(25)\n",
    "Y = discriminate_lineal(k_0, k_1, k_2 ,X)\n",
    "print (Y)"
   ]
  },
  {
   "cell_type": "code",
   "execution_count": 5,
   "metadata": {
    "collapsed": false
   },
   "outputs": [],
   "source": [
    "# Desarrolla una función PLA que implemente el algoritmo de aprendizaje del perceptrón para encontrar w_0, w_1 y w_2.\n",
    "# w_0, w_1, w_2 = PLA(X, Y)\n",
    "\n"
   ]
  },
  {
   "cell_type": "code",
   "execution_count": 6,
   "metadata": {
    "collapsed": false
   },
   "outputs": [
    {
     "ename": "ValueError",
     "evalue": "a must be 1-dimensional",
     "output_type": "error",
     "traceback": [
      "\u001b[1;31m---------------------------------------------------------------------------\u001b[0m",
      "\u001b[1;31mValueError\u001b[0m                                Traceback (most recent call last)",
      "\u001b[1;32m<ipython-input-6-88f7a7b97f61>\u001b[0m in \u001b[0;36m<module>\u001b[1;34m()\u001b[0m\n\u001b[0;32m      2\u001b[0m \u001b[0mX\u001b[0m \u001b[1;33m=\u001b[0m \u001b[0mgenera_datos\u001b[0m\u001b[1;33m(\u001b[0m\u001b[1;36m25\u001b[0m\u001b[1;33m)\u001b[0m\u001b[1;33m\u001b[0m\u001b[0m\n\u001b[0;32m      3\u001b[0m \u001b[0mY\u001b[0m \u001b[1;33m=\u001b[0m \u001b[0mdiscriminate_lineal\u001b[0m\u001b[1;33m(\u001b[0m\u001b[0mk_0\u001b[0m\u001b[1;33m,\u001b[0m \u001b[0mk_1\u001b[0m\u001b[1;33m,\u001b[0m \u001b[0mk_2\u001b[0m \u001b[1;33m,\u001b[0m\u001b[0mX\u001b[0m\u001b[1;33m)\u001b[0m\u001b[1;33m\u001b[0m\u001b[0m\n\u001b[1;32m----> 4\u001b[1;33m \u001b[0ma\u001b[0m\u001b[1;33m,\u001b[0m\u001b[0mb\u001b[0m\u001b[1;33m,\u001b[0m\u001b[0mc\u001b[0m \u001b[1;33m=\u001b[0m \u001b[0mPLA\u001b[0m\u001b[1;33m(\u001b[0m\u001b[0mX\u001b[0m\u001b[1;33m,\u001b[0m\u001b[0mY\u001b[0m\u001b[1;33m)\u001b[0m\u001b[1;33m\u001b[0m\u001b[0m\n\u001b[0m\u001b[0;32m      5\u001b[0m \u001b[0mprint\u001b[0m\u001b[1;33m(\u001b[0m\u001b[0ma\u001b[0m\u001b[1;33m,\u001b[0m\u001b[0mb\u001b[0m\u001b[1;33m,\u001b[0m\u001b[0mc\u001b[0m\u001b[1;33m)\u001b[0m\u001b[1;33m\u001b[0m\u001b[0m\n",
      "\u001b[1;32m<ipython-input-5-db3f29341fb1>\u001b[0m in \u001b[0;36mPLA\u001b[1;34m(X, Y)\u001b[0m\n\u001b[0;32m      9\u001b[0m         \u001b[0mind\u001b[0m \u001b[1;33m=\u001b[0m \u001b[0mnp\u001b[0m\u001b[1;33m.\u001b[0m\u001b[0mwhere\u001b[0m\u001b[1;33m(\u001b[0m\u001b[0mE\u001b[0m\u001b[1;33m>\u001b[0m\u001b[1;36m0\u001b[0m\u001b[1;33m)\u001b[0m\u001b[1;33m\u001b[0m\u001b[0m\n\u001b[0;32m     10\u001b[0m         \u001b[1;32mif\u001b[0m \u001b[0mlen\u001b[0m\u001b[1;33m(\u001b[0m\u001b[0mind\u001b[0m\u001b[1;33m)\u001b[0m \u001b[1;33m==\u001b[0m \u001b[1;36m0\u001b[0m\u001b[1;33m:\u001b[0m \u001b[1;32mreturn\u001b[0m \u001b[0mw\u001b[0m\u001b[1;33m\u001b[0m\u001b[0m\n\u001b[1;32m---> 11\u001b[1;33m         \u001b[0mi\u001b[0m \u001b[1;33m=\u001b[0m \u001b[0mnp\u001b[0m\u001b[1;33m.\u001b[0m\u001b[0mrandom\u001b[0m\u001b[1;33m.\u001b[0m\u001b[0mchoice\u001b[0m\u001b[1;33m(\u001b[0m\u001b[0mind\u001b[0m\u001b[1;33m)\u001b[0m\u001b[1;33m\u001b[0m\u001b[0m\n\u001b[0m\u001b[0;32m     12\u001b[0m         \u001b[0mw\u001b[0m \u001b[1;33m+=\u001b[0m \u001b[0mY\u001b[0m\u001b[1;33m[\u001b[0m\u001b[0mi\u001b[0m\u001b[1;33m]\u001b[0m \u001b[1;33m*\u001b[0m \u001b[0mX\u001b[0m\u001b[1;33m[\u001b[0m\u001b[0mi\u001b[0m\u001b[1;33m,\u001b[0m\u001b[1;33m:\u001b[0m\u001b[1;33m]\u001b[0m\u001b[1;33m.\u001b[0m\u001b[0mT\u001b[0m\u001b[1;33m\u001b[0m\u001b[0m\n",
      "\u001b[1;32mmtrand.pyx\u001b[0m in \u001b[0;36mmtrand.RandomState.choice (numpy\\random\\mtrand\\mtrand.c:11651)\u001b[1;34m()\u001b[0m\n",
      "\u001b[1;31mValueError\u001b[0m: a must be 1-dimensional"
     ]
    }
   ],
   "source": [
    "k_0, k_1, k_2 = modelo_aleatorio()\n",
    "X = genera_datos(25)\n",
    "Y = discriminate_lineal(k_0, k_1, k_2 ,X)\n",
    "a,b,c = PLA(X,Y)\n",
    "print(a,b,c)"
   ]
  }
 ],
 "metadata": {
  "kernelspec": {
   "display_name": "Python 3",
   "language": "python",
   "name": "python3"
  },
  "language_info": {
   "codemirror_mode": {
    "name": "ipython",
    "version": 3
   },
   "file_extension": ".py",
   "mimetype": "text/x-python",
   "name": "python",
   "nbconvert_exporter": "python",
   "pygments_lexer": "ipython3",
   "version": "3.5.1"
  }
 },
 "nbformat": 4,
 "nbformat_minor": 0
}
