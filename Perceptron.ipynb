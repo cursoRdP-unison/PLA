{
 "cells": [
  {
   "cell_type": "markdown",
   "metadata": {},
   "source": [
    "# El algoritmo del perceptrón, y el error en muestra y fuera de muestra"
   ]
  },
  {
   "cell_type": "markdown",
   "metadata": {},
   "source": [
    "# Introducción "
   ]
  },
  {
   "cell_type": "markdown",
   "metadata": {},
   "source": [
    "Esta práctica tiene como fin poner en relieve las ideas básicas de el aprendizaje, utilizando uno de los métodos de aprendizaje más antiguos y fáciles de implementar.\n",
    "\n",
    "Esta práctica no intenta ser un remplazo del curso, por lo que se asume que los estudiantes conocen el algoritmo de aprendizaje del perceptrón (PLA por sus sigles en inglés), así como las ideas básicas sobre error en muestra y error fuera de muestra. Para esta práctica se puede realizar el problema en cualquier lenguaje de computación que conozca el estudiante. Sin embargo, se recomienda un lenguaje con capacidades de graficación, tal como Matlab, R y Python (con numpy y matplotlib).\n",
    "\n",
    "Recordemos que el error fuera de muestra E_o es el error sobre todo el conjunto de puntos del espacio X. Una vez definido el criterio del error, el objetivo del aprendizaje es encontrar una hipótesis g en el conjunto de todas las hipótesis posibles que se pueden hacer con el método de aprendizaje.\n",
    "\n",
    "Lamentablemente, en todos los casos reales se desconoce E_o y lo más que se puede esperar es aproximarlo a partir del error en muestra E_i, el cual se define como el error medio de un conjunto de datos de aprendizaje disponibles.\n",
    "\n",
    "Para el caso del perceptrón, E_o es la esperanza que un dato se encuentre mal clasificado, y E_i es el porcentaje de datos mal clasificados por el perceptrón. Tambien sabemos, por lo visto en el curso, que si el conjunto de datos que se utiliza en el algoritmo de PLA es linealmente separable, entonces siempre se tiene una hipótesis final g tal que E_i = 0.\n",
    "\n",
    "Entonces, ¿Si E_i = 0, podríamos decir que el PLA aprende perfectamente? Desgraciadamente esto es falso. ¿Y eso porqué? Pues porque lo que nos interesa es E_o = 0 y no E_i = 0. Esta práctica tiene como fin dejar clara la diferencia entre E_i y E_o.\n",
    "\n",
    "Para esto, vamos a hacer un poco de trampa, vamos a suponer que nosotros efectivamente conocemos la función con la que se generaron los datos de aprendizaje, la cual va a ser una función del tipo y = sign(k_0 + k_1 * x_1 + k_2 * x_2). Después vamos a generar datos con esta función, y vamos a estimar g(x) = sign(w_0 + w_1 * x_1 + w_2 * x_2) con el PLA. Así nosotros podemos hacer una estimación suficientemente aproximada de que tan grande es en general la diferencia entre E_i y E_o para diferente número de datos en el conjunto de aprendizaje."
   ]
  },
  {
   "cell_type": "markdown",
   "metadata": {},
   "source": [
    "# Práctica a realizar"
   ]
  },
  {
   "cell_type": "code",
   "execution_count": 1,
   "metadata": {
    "collapsed": true
   },
   "outputs": [],
   "source": [
    "%matplotlib inline\n",
    "import numpy as np\n",
    "import matplotlib.pyplot as plt"
   ]
  },
  {
   "cell_type": "markdown",
   "metadata": {},
   "source": [
    "*   Desarrolla una función `modelo_aleatorio` en el cual:\n",
    "\n",
    "\ta. Se soliciten 4 numeros aleatorios entre el 0 y el 1, a los que llamaremos x1, y1, x2, y2.\n",
    "\n",
    "\tb. Se obtenga el valor de os pesos de la recta que pasa entre los dos puntos calculados como:\n",
    "\n",
    "        k_2 = 1\n",
    "        k_1 = (y2 - y1) / (x2 - x1)\n",
    "        k_0 = y_1 - k_1 * x_1\n",
    "\n",
    "\n",
    "\tde forma que:\n",
    "\n",
    "        k_0, k_1, k_2 = modelo_aleatorio()"
   ]
  },
  {
   "cell_type": "code",
   "execution_count": 2,
   "metadata": {
    "collapsed": true
   },
   "outputs": [],
   "source": [
    "def modelo_aleatorio():\n",
    "\n",
    "    x1 = np.random.uniform(0,1)\n",
    "    y1 = np.random.uniform(0,1)\n",
    "    x2 = np.random.uniform(0,1)\n",
    "    y2 = np.random.uniform(0,1)\n",
    "\n",
    "    k_2 = 1.0 \n",
    "    k_1 = (y2 - y1) / (x2 - x1) \n",
    "    k_0 = y1 - k_1 * x1 \n",
    "\n",
    "    return k_0, k_1, k_2"
   ]
  },
  {
   "cell_type": "code",
   "execution_count": 3,
   "metadata": {
    "collapsed": false
   },
   "outputs": [
    {
     "name": "stdout",
     "output_type": "stream",
     "text": [
      "Funcion 1: modelo_aleatorio\n",
      "0.794490470935\n",
      "-0.940715540006\n",
      "1.0\n"
     ]
    }
   ],
   "source": [
    "print \"Funcion 1: modelo_aleatorio\"\n",
    "k_0, k_1, k_2 = modelo_aleatorio()\n",
    "print k_0\n",
    "print k_1\n",
    "print k_2"
   ]
  },
  {
   "cell_type": "markdown",
   "metadata": {},
   "source": [
    "* Desarrolla una función `genera_datos`tal que reciba un número entero positivo `N` y devuelva una matriz `X` \n",
    "   de `N`renglones y 2 columnas de manera que los valores de la matriz sean datos aleatorios en el intervalo [0, 1].\n",
    "   ```\n",
    "   X = genera_datos(N)\n",
    "   ```"
   ]
  },
  {
   "cell_type": "code",
   "execution_count": 4,
   "metadata": {
    "collapsed": true
   },
   "outputs": [],
   "source": [
    "def genera_datos(N):\n",
    "\n",
    "    return None if N <= 0 else np.column_stack((np.ones(N), (np.random.uniform(0, 1, size=(N, 2)))))"
   ]
  },
  {
   "cell_type": "code",
   "execution_count": 5,
   "metadata": {
    "collapsed": false
   },
   "outputs": [
    {
     "name": "stdout",
     "output_type": "stream",
     "text": [
      "Funcion 2: genera_datos\n",
      "[[ 1.          0.00148137  0.79023634]\n",
      " [ 1.          0.61890472  0.69924334]\n",
      " [ 1.          0.49618426  0.8612469 ]\n",
      " [ 1.          0.90797067  0.66303957]\n",
      " [ 1.          0.46068733  0.31812102]\n",
      " [ 1.          0.43890234  0.97081096]\n",
      " [ 1.          0.0156901   0.75542019]\n",
      " [ 1.          0.37516198  0.90385506]\n",
      " [ 1.          0.4888575   0.1558034 ]\n",
      " [ 1.          0.06510065  0.85946156]\n",
      " [ 1.          0.96829661  0.97050346]\n",
      " [ 1.          0.09880107  0.58133242]\n",
      " [ 1.          0.8613367   0.46071377]\n",
      " [ 1.          0.31682199  0.88275707]\n",
      " [ 1.          0.28898997  0.37544754]\n",
      " [ 1.          0.37439764  0.33444687]\n",
      " [ 1.          0.96087715  0.17687406]\n",
      " [ 1.          0.78106769  0.41661403]\n",
      " [ 1.          0.05070623  0.74075151]\n",
      " [ 1.          0.53745066  0.37863446]\n",
      " [ 1.          0.00997639  0.64179512]\n",
      " [ 1.          0.6516076   0.69130758]\n",
      " [ 1.          0.93171687  0.91666555]\n",
      " [ 1.          0.42575435  0.36871256]\n",
      " [ 1.          0.76346711  0.28573102]]\n"
     ]
    }
   ],
   "source": [
    "print \"Funcion 2: genera_datos\"\n",
    "X = genera_datos(25)\n",
    "print X"
   ]
  },
  {
   "cell_type": "markdown",
   "metadata": {},
   "source": [
    "* Desarrolla una función `discriminante_lineal` tal que reciba tres valores `k_0` `k_1` y `k_2` y  una matriz `X` de    2 por `N` y devuelva un vector `Y` de `N` elementos tales que por cada renglon `j` de la matriz X, se devuelva el \n",
    "   `j`-ésimo valor del vector `Y` tal que su valor sea `sign(k_0 + k_1 * x_1 + k_2 * x_2)`.\n",
    "   ```\n",
    "   Y = discriminante_lineal(k_0, k_1, k_2, X) \n",
    "   ``` "
   ]
  },
  {
   "cell_type": "code",
   "execution_count": 6,
   "metadata": {
    "collapsed": true
   },
   "outputs": [],
   "source": [
    "def discriminante_lineal(k_0, k_1, k_2, X):\n",
    "\n",
    "    Y = []\n",
    "\n",
    "    for i in xrange(X.shape[0]):\n",
    "        x_1 = X[i][1]\n",
    "        x_2 = X[i][2]\n",
    "        Y.append(np.sign(k_0 + k_1 * x_1 + k_2 * x_2))\n",
    "\n",
    "    return Y"
   ]
  },
  {
   "cell_type": "code",
   "execution_count": 7,
   "metadata": {
    "collapsed": false
   },
   "outputs": [
    {
     "name": "stdout",
     "output_type": "stream",
     "text": [
      "Funcion 3: discriminante_lineal\n",
      "[1.0, 1.0, 1.0, 1.0, 1.0, 1.0, 1.0, 1.0, 1.0, 1.0, 1.0, 1.0, 1.0, 1.0, 1.0, 1.0, 1.0, 1.0, 1.0, 1.0, 1.0, 1.0, 1.0, 1.0, 1.0]\n"
     ]
    }
   ],
   "source": [
    "print \"Funcion 3: discriminante_lineal\"\n",
    "Y = discriminante_lineal(k_0, k_1, k_2, X)\n",
    "print Y"
   ]
  },
  {
   "cell_type": "markdown",
   "metadata": {},
   "source": [
    "* Desarrolla una función `PLA` que implemente el algoritmo de aprendizaje del perceptrón para encontrar \n",
    "   `w_0`, `w_1` y `w_2`.\n",
    "   ```\n",
    "   w_0, w_1, w_2 = PLA(X, Y)\n",
    "   ```"
   ]
  },
  {
   "cell_type": "code",
   "execution_count": 8,
   "metadata": {
    "collapsed": true
   },
   "outputs": [],
   "source": [
    "def PLA(X, Y):\n",
    "\n",
    "    max_iter = 0\n",
    "    w = np.random.uniform(0, 1, size=X.shape[1])\n",
    "    Ye = np.sign(np.dot(X, w)) \n",
    "    error = Ye * Y\n",
    "    \n",
    "    while any(e != 1 for e in error) and max_iter < 1000:\n",
    "        i = np.random.choice(X.shape[0])\n",
    "        sign = np.sign(np.dot(X[i], w))\n",
    "\n",
    "        if sign == Y[i]:\n",
    "            pass\n",
    "        else:\n",
    "            w = w + np.dot(X[i], Y[i])\n",
    "            Ye = np.sign(np.dot(X, w)) \n",
    "            error = Ye * Y\n",
    "\n",
    "        max_iter += 1\n",
    "\n",
    "    return w"
   ]
  },
  {
   "cell_type": "code",
   "execution_count": 9,
   "metadata": {
    "collapsed": false
   },
   "outputs": [
    {
     "name": "stdout",
     "output_type": "stream",
     "text": [
      "Funcion 4: PLA\n",
      "0.377514400117\n",
      "0.214174473564\n",
      "0.738737254276\n"
     ]
    }
   ],
   "source": [
    "print \"Funcion 4: PLA\"\n",
    "w_0, w_1, w_2 = PLA(X, Y)\n",
    "print w_0\n",
    "print w_1\n",
    "print w_2"
   ]
  },
  {
   "cell_type": "markdown",
   "metadata": {},
   "source": [
    "* Desarrolla una función `error_clasificacion` que reciba un vector de valores `Y`y un vector de valores `Y_e` y \n",
    "   calcule el porcentaje de valores diferentes entre ambos vectores\n",
    "   ```\n",
    "   e = error_clasificacion(Y, Y_e)\n",
    "   ```"
   ]
  },
  {
   "cell_type": "code",
   "execution_count": 10,
   "metadata": {
    "collapsed": true
   },
   "outputs": [],
   "source": [
    "def error_clasificacion(Y, Y_e):\n",
    "\n",
    "    c = 0\n",
    "\n",
    "    for i in xrange(len(Y)):\n",
    "        if Y[i] != Y_e[i]:\n",
    "            c += 1\n",
    "\n",
    "    return c / float(len(Y))"
   ]
  },
  {
   "cell_type": "code",
   "execution_count": 11,
   "metadata": {
    "collapsed": false
   },
   "outputs": [
    {
     "name": "stdout",
     "output_type": "stream",
     "text": [
      "Funcion 5: error_clasificacion\n",
      "0.0\n"
     ]
    }
   ],
   "source": [
    "print \"Funcion 5: error_clasificacion\"\n",
    "E_i = error_clasificacion(Y, Y)\n",
    "print E_i"
   ]
  },
  {
   "cell_type": "markdown",
   "metadata": {},
   "source": [
    "* Prueba que el conjunto funciona, esto es, para diferentes valores de `N`y repetidos tantas veces \n",
    "   como sea necesario al realizar lo siguiente:\n",
    "   ```\n",
    "   k_0, k_1, k_2 = modelo_aleatorio()\n",
    "   X = genera_datos(N)\n",
    "   Y = discriminante_lineal(k_0, k_1, k_2, X)\n",
    "   w_0, w_1, w_2 = PLA(X, Y)\n",
    "   Y_e = discriminante_lineal(w_0, w_1, w_2, X)\n",
    "   E_i = error_clasificacion(Y, Y_e)\n",
    "   ```\n",
    "   en todos los casos `e` debe de ser 0 o un valor muy cercano (como `1e-12`)."
   ]
  },
  {
   "cell_type": "code",
   "execution_count": 12,
   "metadata": {
    "collapsed": false
   },
   "outputs": [
    {
     "name": "stdout",
     "output_type": "stream",
     "text": [
      "Funcion 6: prueba E_i\n",
      "0.0\n"
     ]
    }
   ],
   "source": [
    "print \"Funcion 6: prueba E_i\"\n",
    "k_0, k_1, k_2 = modelo_aleatorio()\n",
    "X = genera_datos(10000)\n",
    "Y = discriminante_lineal(k_0, k_1, k_2, X)\n",
    "w_0, w_1, w_2 = PLA(X, Y)\n",
    "Y_e = discriminante_lineal(w_0, w_1, w_2, X)\n",
    "E_i = error_clasificacion(Y, Y_e)\n",
    "print E_i"
   ]
  },
  {
   "cell_type": "markdown",
   "metadata": {},
   "source": [
    "* `E_i` Es en este caso el error en muestra, que es el que se obtiene de verificar el error que el clasificador\n",
    "   (descrito por `w_0`, `w_1` y `w_2`) presenta respecto a los datos reales, pero únicamente de datos de aprendizaje.\n",
    "   \n",
    "   Este error no es exactamente el error fuera de muestra, y para calcular dicho error en el plano [0, 1] x [0, 1]\n",
    "   hay que realizar algunas operaciones de geometría analítica que no siempre son sencillas. Por esta razón vamos a\n",
    "   considerar estimar el E_out, con un conjunto de datos sensiblemente mayor al que utilizamos para el aprendizaje.\n",
    "   por ejemplo:\n",
    "   ```\n",
    "   X_o = genera_datos(10000)\n",
    "   Y_o = discriminante_lineal(k_0, k_1, k_2, X_o)\n",
    "   Y_eo = discriminante_lineal(w_0, w_1, w_2, X_o)\n",
    "   E_o = error_clasificacion(Y_o, Y_eo)\n",
    "   ```"
   ]
  },
  {
   "cell_type": "code",
   "execution_count": 13,
   "metadata": {
    "collapsed": false
   },
   "outputs": [
    {
     "name": "stdout",
     "output_type": "stream",
     "text": [
      "Funcion 7: prueba E_o\n",
      "0.0\n"
     ]
    }
   ],
   "source": [
    "print \"Funcion 7: prueba E_o\"\n",
    "X_o = genera_datos(10000)\n",
    "Y_o = discriminante_lineal(k_0, k_1, k_2, X_o)\n",
    "Y_eo = discriminante_lineal(w_0, w_1, w_2, X_o)\n",
    "E_o = error_clasificacion(Y_o, Y_eo)\n",
    "print E_o"
   ]
  },
  {
   "cell_type": "markdown",
   "metadata": {},
   "source": [
    "* Ahora vamos a comparar con un número diferente de datos de aprendizaje, como E_o cambia en terminos generales. \n",
    "   Con el fin de generalizar, haga una función que reciba un valor `N` y devuelva un `E_o_prom` estimado de la \n",
    "   siguiente forma:\n",
    "   ```\n",
    "   Entrada: N\n",
    "   Salida: E_o_prom\n",
    "   \n",
    "   E_lista = arreglo e numeros de 500 espacios\n",
    "   X_o = genera_datos(10000)\n",
    "\n",
    "   para epoch de 1 a 100:\n",
    "      k_0, k_1, k_2 = modelo_aleatorio()\n",
    "      Y_o = discriminante_lineal(k_0, k_1, k_2, X_o)\n",
    "\n",
    "      para iter de 1 a 100:\n",
    "          X = genera_datos(N)\n",
    "          Y = discriminante_lineal(k_0, k_1, k_2, X)\n",
    "          w_0, w_1, w_2 = PLA(X, Y)\n",
    "          Y_eo = discriminante_lineal(w_0, w_1, w_2, X_o)\n",
    "          E_o = error_clasificacion(Y_o, Y_eo)\n",
    "          E_lista[100 * epoch + iter] = E_o\n",
    "      fin para\n",
    "\n",
    "   fin para\n",
    "\n",
    "   devuelve el valor promedio de los valores de E_lista\n",
    "   ```\n",
    "   Como puede verse en el pseudocódigo, la idea es poder estimar en forma general el error promedio entre el \n",
    "   E_i y el E_o que tendríamos si tuvieramos solo `N` datos de aprendizaje. "
   ]
  },
  {
   "cell_type": "code",
   "execution_count": 14,
   "metadata": {
    "collapsed": true
   },
   "outputs": [],
   "source": [
    "def E_o_prom(N):\n",
    "\n",
    "    E_lista = np.zeros(500)\n",
    "    X_o = genera_datos(10000)\n",
    "\n",
    "    for epoch in xrange(1, 100):\n",
    "        k_0, k_1, k_2 = modelo_aleatorio()\n",
    "        Y_o = discriminante_lineal(k_0, k_1, k_2, X_o)\n",
    "\n",
    "        for iter in xrange(1, 100):\n",
    "            X = genera_datos(N)\n",
    "            Y = discriminante_lineal(k_0, k_1, k_2, X)\n",
    "            w_0, w_1, w_2 = PLA(X, Y)\n",
    "            Y_eo = discriminante_lineal(w_0, w_1, w_2, X_o)\n",
    "            E_o = error_clasificacion(Y_o, Y_eo)\n",
    "            indice = 100 * epoch + iter\n",
    "\n",
    "            if len(E_lista) <= indice:\n",
    "                temp = np.zeros(indice + 1)\n",
    "                for i in xrange(0, len(E_lista)):\n",
    "                    temp[i] = E_lista[i]\n",
    "                temp[indice] = E_o\n",
    "                E_lista = temp[:]\n",
    "            else:\n",
    "                E_lista[indice] = E_o\n",
    "\n",
    "    return sum(E_lista) / len(E_lista)"
   ]
  },
  {
   "cell_type": "code",
   "execution_count": null,
   "metadata": {
    "collapsed": true
   },
   "outputs": [],
   "source": [
    "print \"Funcion 8: pseudocodigo E_o_prom\"\n",
    "E_o_prom = E_o_prom(5)\n",
    "print E_o_prom"
   ]
  },
  {
   "cell_type": "markdown",
   "metadata": {},
   "source": [
    "* Explica en forma gráfica que es lo que se está haciendo y que es el valor que estamos midiendo.\n"
   ]
  },
  {
   "cell_type": "code",
   "execution_count": null,
   "metadata": {
    "collapsed": true
   },
   "outputs": [],
   "source": [
    "print \"Funcion 9: grafica\"\n",
    "pass"
   ]
  },
  {
   "cell_type": "markdown",
   "metadata": {},
   "source": [
    "* Realiza una tabla con los valores de `E_o_prom`para `N` que tome los valores de 10, 20, 50, 100, 500 \n",
    "    respectivamente. Escribe claramente tus conclusiones de este trabajo. "
   ]
  },
  {
   "cell_type": "code",
   "execution_count": null,
   "metadata": {
    "collapsed": true
   },
   "outputs": [],
   "source": [
    "print \"Funcion 10: tabla de E_o_prom\"\n",
    "N = [10, 20, 50, 100]\n",
    "for x in N:\n",
    "    E_o_prom = E_o_prom(x)\n",
    "    print \"N: \" + str(x) + \"    \" + \"E_o_prom: \" + str(E_o_prom)"
   ]
  }
 ],
 "metadata": {
  "kernelspec": {
   "display_name": "Python 2",
   "language": "python",
   "name": "python2"
  },
  "language_info": {
   "codemirror_mode": {
    "name": "ipython",
    "version": 2
   },
   "file_extension": ".py",
   "mimetype": "text/x-python",
   "name": "python",
   "nbconvert_exporter": "python",
   "pygments_lexer": "ipython2",
   "version": "2.7.10"
  }
 },
 "nbformat": 4,
 "nbformat_minor": 0
}
