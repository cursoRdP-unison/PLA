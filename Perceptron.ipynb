{
 "cells": [
  {
   "cell_type": "code",
   "execution_count": 1,
   "metadata": {
    "collapsed": true
   },
   "outputs": [],
   "source": [
    "%matplotlib inline\n",
    "import numpy as np\n",
    "import matplotlib.pyplot as plt"
   ]
  },
  {
   "cell_type": "code",
   "execution_count": 2,
   "metadata": {
    "collapsed": false
   },
   "outputs": [
    {
     "name": "stdout",
     "output_type": "stream",
     "text": [
      "(0.82472185270288212, -1.6571103508569311, 1)\n"
     ]
    }
   ],
   "source": [
    "# Desarrolla una función modelo_aleatorio en el cual:\n",
    "\n",
    "# a. Se soliciten 4 numeros aleatorios entre el 0 y el 1, a los que llamaremos x1, y1, x2, y2.\n",
    "\n",
    "# b. Se obtenga el valor de os pesos de la recta que pasa entre los dos puntos calculados como:  k_2 = 1 k_1 = (y2 - y1) / (x2 - x1) \n",
    "# k_0 = y_1 - k_1 * x_1 \n",
    "\n",
    "# de forma que:\n",
    "\n",
    "# k_0, k_1, k_2 = modelo_aleatorio()\n",
    "def modelo_aleatorio():\n",
    "    r = np.random.random_sample(4)\n",
    "    x1, y1, x2, y2 = r[0], r[1], r[2], r[3]\n",
    "    k_2 = 1\n",
    "    k_1 =(y2-y1)/(x2-x1)\n",
    "    k_0 = y1 - k_1 * x1\n",
    "    return k_0, k_1, k_2\n",
    "print (modelo_aleatorio())"
   ]
  },
  {
   "cell_type": "code",
   "execution_count": 3,
   "metadata": {
    "collapsed": false
   },
   "outputs": [
    {
     "name": "stdout",
     "output_type": "stream",
     "text": [
      "[[ 1.          0.87156435  0.18238486]\n",
      " [ 1.          0.98902142  0.44559538]\n",
      " [ 1.          0.5697359   0.96819413]\n",
      " [ 1.          0.86637066  0.57912101]\n",
      " [ 1.          0.1328381   0.84365537]\n",
      " [ 1.          0.67556005  0.19298139]\n",
      " [ 1.          0.83936031  0.52499339]\n",
      " [ 1.          0.87626397  0.72241549]\n",
      " [ 1.          0.06206809  0.20850383]\n",
      " [ 1.          0.92472518  0.22565661]]\n"
     ]
    }
   ],
   "source": [
    "# Desarrolla una función genera_datostal que reciba un número entero positivo N y devuelva una matriz X de Nrenglones y \n",
    "# 2 columnas de manera que los valores de la matriz sean datos aleatorios en el intervalo [0, 1].\n",
    "def genera_datos(N):\n",
    "    c = np.ones((N,1))\n",
    "    a = np.random.rand(N,2)\n",
    "    X = np.c_[c, a]\n",
    "    return X\n",
    "print (genera_datos(10))\n",
    "    "
   ]
  },
  {
   "cell_type": "code",
   "execution_count": 41,
   "metadata": {
    "collapsed": false
   },
   "outputs": [
    {
     "name": "stdout",
     "output_type": "stream",
     "text": [
      "[1.0, 1.0, 1.0, 1.0, 1.0, 1.0, 1.0, 1.0, 1.0, 1.0, 1.0, 1.0, 1.0, 1.0, 1.0, 1.0, 1.0, 1.0, 1.0, 1.0, 1.0, 1.0, 1.0, 1.0, 1.0]\n"
     ]
    }
   ],
   "source": [
    "# Desarrolla una función discriminante_lineal tal que reciba tres valores k_0 k_1 y k_2 y una matriz X de 2 por N \n",
    "# y devuelva un vector Y de N elementos tales que por cada renglon j de la matriz X, se devuelva el j-ésimo valor del \n",
    "# vector Y tal que su valor sea sign(k_0 + k_1 * x_1 + k_2 * x_2).\n",
    "\n",
    "def discriminate_lineal(k_0,k_1,k_2,X):\n",
    "    Y = []\n",
    "    for i in X: Y.append(np.sign(k_0 + k_1 * i[1] + k_2 * i[2]))\n",
    "    return Y\n",
    "\n",
    "k_0, k_1, k_2 = modelo_aleatorio()\n",
    "X = genera_datos(25)\n",
    "Y = discriminate_lineal(k_0, k_1, k_2 ,X)\n",
    "print (Y)"
   ]
  },
  {
   "cell_type": "code",
   "execution_count": 44,
   "metadata": {
    "collapsed": false
   },
   "outputs": [],
   "source": [
    "# Desarrolla una función PLA que implemente el algoritmo de aprendizaje del perceptrón para encontrar w_0, w_1 y w_2.\n",
    "# w_0, w_1, w_2 = PLA(X, Y)\n",
    "\n",
    "def PLA(X,Y):\n",
    "    max_iter = 0\n",
    "    w = np.random.uniform(0, 1, size=X.shape[1])\n",
    "    Y_est = np.sign(np.dot(X, w)) \n",
    "    error = Y_est * Y\n",
    "    while any(e > 0 for e in error) and max_iter < 1000:\n",
    "        i = np.random.choice(X.shape[0])\n",
    "        sign = np.sign(np.dot(X[i], w))\n",
    "\n",
    "        if sign == Y[i]:\n",
    "            pass\n",
    "        else:\n",
    "            w = w + np.dot(X[i], Y[i])\n",
    "            Y_est = np.sign(np.dot(X, w)) \n",
    "            error = Y_est * Y\n",
    "\n",
    "        max_iter += 1\n",
    "\n",
    "    return w\n",
    "        \n",
    "  "
   ]
  },
  {
   "cell_type": "code",
   "execution_count": 46,
   "metadata": {
    "collapsed": false
   },
   "outputs": [
    {
     "name": "stdout",
     "output_type": "stream",
     "text": [
      "0.327377319446 0.108838297223 0.912692451932\n"
     ]
    }
   ],
   "source": [
    "k_0, k_1, k_2 = modelo_aleatorio()\n",
    "X = genera_datos(25)\n",
    "Y = discriminate_lineal(k_0, k_1, k_2 ,X)\n",
    "a,b,c = PLA(X,Y)\n",
    "print(a,b,c)"
   ]
  },
  {
   "cell_type": "code",
   "execution_count": 7,
   "metadata": {
    "collapsed": false
   },
   "outputs": [],
   "source": [
    "# Desarrolla una función error_clasificacion que reciba un vector de valores Yy un vector de valores Y_e y calcule el porcentaje \n",
    "# de valores diferentes entre ambos vectores\n",
    "#  e = error_clasificacion(Y, Y_e)\n",
    "\n",
    "def error_clasificacion(Y, Y_e):\n",
    "    errores = 0\n",
    "    for i,j in zip(Y,Y_e):\n",
    "         if i != j: errores += 1\n",
    "    return errores/len(Y)"
   ]
  },
  {
   "cell_type": "code",
   "execution_count": 8,
   "metadata": {
    "collapsed": false
   },
   "outputs": [
    {
     "name": "stdout",
     "output_type": "stream",
     "text": [
      "0.0\n"
     ]
    }
   ],
   "source": [
    "E = error_clasificacion(Y,Y)\n",
    "print(E)"
   ]
  },
  {
   "cell_type": "code",
   "execution_count": 9,
   "metadata": {
    "collapsed": false
   },
   "outputs": [
    {
     "name": "stdout",
     "output_type": "stream",
     "text": [
      "[1.0, 1.0, 1.0, 1.0, 1.0, 1.0, 1.0, 1.0, 1.0, 1.0, 1.0, 1.0, 1.0, 1.0, 1.0, 1.0, 1.0, 1.0, 1.0, 1.0, 1.0, 1.0, 1.0, 1.0, 1.0, 1.0, 1.0, 1.0, 1.0, 1.0, 1.0, 1.0, 1.0, 1.0, 1.0, 1.0, 1.0, 1.0, 1.0, 1.0, 1.0, 1.0, 1.0, 1.0, 1.0, 1.0, 1.0, 1.0, 1.0, 1.0, 1.0, 1.0, 1.0, 1.0, 1.0, 1.0, 1.0, 1.0, 1.0, 1.0, 1.0, 1.0, 1.0, 1.0, 1.0, 1.0, 1.0, 1.0, 1.0, 1.0, 1.0, 1.0, 1.0, 1.0, 1.0, 1.0, 1.0, 1.0, 1.0, 1.0, 1.0, 1.0, 1.0, 1.0, 1.0, 1.0, 1.0, 1.0, 1.0, 1.0, 1.0, 1.0, 1.0, 1.0, 1.0, 1.0, 1.0, 1.0, 1.0, 1.0] 0.0\n"
     ]
    }
   ],
   "source": [
    "# Prueba que el conjunto funciona, esto es, para diferentes valores de N y repetidos tantas veces como sea necesario al realizar lo siguiente:\n",
    "#  k_0, k_1, k_2 = modelo_aleatorio()\n",
    "#  X = genera_datos(N)\n",
    "#  Y = discriminante_lineal(k_0, k_1, k_2, X)\n",
    "#  w_0, w_1, w_2 = PLA(X, Y)\n",
    "#  Y_e = discriminante_lineal(w_0, w_1, w_2, X)\n",
    "#  E_i = error_clasificacion(Y, Y_e)\n",
    "# en todos los casos e debe de ser 0 o un valor muy cercano (como 1e-12).\n",
    "\n",
    "k_0, k_1, k_2 = modelo_aleatorio()\n",
    "X = genera_datos(100)\n",
    "Y = discriminate_lineal(k_0, k_1 , k_2, X)\n",
    "w_0, w_1, w_2 = PLA(X, Y)\n",
    "Y_e = discriminate_lineal(w_0, w_1, w_2, X)\n",
    "E_i = error_clasificacion(Y, Y_e)\n",
    "\n",
    "print(Y,E_i)\n"
   ]
  },
  {
   "cell_type": "code",
   "execution_count": 10,
   "metadata": {
    "collapsed": false
   },
   "outputs": [
    {
     "name": "stdout",
     "output_type": "stream",
     "text": [
      "0.0\n"
     ]
    }
   ],
   "source": [
    "# E_i Es en este caso el error en muestra, que es el que se obtiene de verificar el error que el clasificador \n",
    "# (descrito por w_0, w_1 y w_2) presenta respecto a los datos reales, pero únicamente de datos de aprendizaje.\n",
    "# \n",
    "# Este error no es exactamente el error fuera de muestra, y para calcular dicho error en el plano [0, 1] x [0, 1] \n",
    "# hay que realizar algunas operaciones de geometría analítica que no siempre son sencillas. Por esta razón vamos a \n",
    "# considerar estimar el E_out, con un conjunto de datos sensiblemente mayor al que utilizamos para el aprendizaje.\n",
    "# por ejemplo:\n",
    "\n",
    "X_o = genera_datos(10000)\n",
    "Y_o = discriminate_lineal(k_0, k_1, k_2, X_o)\n",
    "Y_eo = discriminate_lineal(w_0, w_1, w_2, X_o)\n",
    "E_o = error_clasificacion(Y_o, Y_eo)\n",
    "print(E_o)"
   ]
  },
  {
   "cell_type": "code",
   "execution_count": 48,
   "metadata": {
    "collapsed": false
   },
   "outputs": [],
   "source": [
    "# Ahora vamos a comparar con un número diferente de datos de aprendizaje, como E_o cambia en terminos generales.\n",
    "# Con el fin de generalizar, haga una función que reciba un valor N y devuelva un E_o_prom estimado de la siguiente forma:\n",
    "\n",
    "def Eout_prom(N):\n",
    "    E_lista = np.zeros(500)\n",
    "    X_o = genera_datos(10000)\n",
    "    for epoch in range(1,100):\n",
    "            k_0, k_1, k_2 = modelo_aleatorio()\n",
    "            Y_o = discriminate_lineal(k_0, k_1, k_2, X_o)\n",
    "            for iter in range(1,100):\n",
    "                X = genera_datos(N)\n",
    "                Y = discriminate_lineal(k_0, k_1, k_2, X)\n",
    "                w_0, w_1, w_2 = PLA(X, Y)\n",
    "                Y_eo = discriminate_lineal(w_0, w_1, w_2, X_o)\n",
    "                E_o = error_clasificacion(Y_o, Y_eo)\n",
    "                indice = 100 * epoch + iter\n",
    "\n",
    "                if len(E_lista) <= indice:\n",
    "                    temp = np.zeros(indice + 1)\n",
    "                    for i in range(len(E_lista)):\n",
    "                        temp[i] = E_lista[i]\n",
    "                    temp[indice] = E_o\n",
    "                    E_lista = temp[:]\n",
    "                else:\n",
    "                    E_lista[indice] = E_o\n",
    "\n",
    "    return sum(E_lista) / len(E_lista)\n",
    "      "
   ]
  },
  {
   "cell_type": "code",
   "execution_count": 51,
   "metadata": {
    "collapsed": false
   },
   "outputs": [
    {
     "name": "stdout",
     "output_type": "stream",
     "text": [
      "0.04951742\n"
     ]
    }
   ],
   "source": [
    "E_o_prom = Eout_prom(5)\n",
    "print(E_o_prom)"
   ]
  },
  {
   "cell_type": "code",
   "execution_count": null,
   "metadata": {
    "collapsed": true
   },
   "outputs": [],
   "source": []
  }
 ],
 "metadata": {
  "kernelspec": {
   "display_name": "Python 3",
   "language": "python",
   "name": "python3"
  },
  "language_info": {
   "codemirror_mode": {
    "name": "ipython",
    "version": 3
   },
   "file_extension": ".py",
   "mimetype": "text/x-python",
   "name": "python",
   "nbconvert_exporter": "python",
   "pygments_lexer": "ipython3",
   "version": "3.5.1"
  }
 },
 "nbformat": 4,
 "nbformat_minor": 0
}
